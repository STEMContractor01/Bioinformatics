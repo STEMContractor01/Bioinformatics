{
 "cells": [
  {
   "cell_type": "code",
   "execution_count": 1,
   "metadata": {},
   "outputs": [],
   "source": [
    "import pandas as pd\n",
    "import numpy as np\n",
    "import matplotlib.pyplot as plt\n",
    "\n",
    "from sklearn.cluster import KMeans\n",
    "\n",
    "#K-Means Elbow Method Code for Python (predictive['hacks'])"
   ]
  },
  {
   "cell_type": "code",
   "execution_count": 15,
   "metadata": {},
   "outputs": [
    {
     "name": "stdout",
     "output_type": "stream",
     "text": [
      "    X-Position  Y-Position  X-Distance From Center of Tumor Mass   \\\n",
      "0   181.037686 -300.039628                             136.306466   \n",
      "1   308.811980 -242.512411                               8.532172   \n",
      "2   288.290306 -349.414755                              29.053846   \n",
      "3   218.701539 -278.345530                              98.642613   \n",
      "4   157.145854 -290.635373                             160.198298   \n",
      "5   181.361561 -299.763162                             135.982591   \n",
      "6   153.422155 -291.861102                             163.921997   \n",
      "7   317.014888 -197.901003                               0.329264   \n",
      "8   294.237934 -158.236120                              23.106218   \n",
      "9   218.755463  277.265912                              98.588689   \n",
      "10  286.311232 -349.335001                              31.032920   \n",
      "11  288.245654 -347.729878                              29.098498   \n",
      "12  197.842969 -182.868653                             119.501183   \n",
      "13  180.292955 -299.541873                             137.051197   \n",
      "14  295.161525 -332.522953                              22.182627   \n",
      "15  198.197170 -183.809023                             119.146982   \n",
      "16  178.278548 -211.941757                             139.065604   \n",
      "17  189.886646 -240.429929                             127.457506   \n",
      "18  129.768774 -256.144529                             187.575378   \n",
      "19  316.058671 -378.905324                               1.285481   \n",
      "20  318.864140 -353.467646                               1.519988   \n",
      "21  333.320075 -365.831188                              15.975923   \n",
      "22  302.947419 -360.975041                              14.396733   \n",
      "23  317.344152 -364.343321                               0.000000   \n",
      "\n",
      "    Y-Distance From Center of Tumor Mass  RGB Value  \n",
      "0                             500.649787        187  \n",
      "1                             372.875493        208  \n",
      "2                             393.397167        212  \n",
      "3                             462.985934        209  \n",
      "4                             524.541619        213  \n",
      "5                             500.325912        198  \n",
      "6                             528.265318        202  \n",
      "7                             364.672585        193  \n",
      "8                             387.449539        209  \n",
      "9                             462.932010        209  \n",
      "10                            395.376241        191  \n",
      "11                            393.441819        217  \n",
      "12                            483.844504        210  \n",
      "13                            501.394518        220  \n",
      "14                            386.525948        185  \n",
      "15                            483.490303        204  \n",
      "16                            503.408925        208  \n",
      "17                            491.800827        229  \n",
      "18                            551.918699        197  \n",
      "19                            365.628802        183  \n",
      "20                            365.863309        198  \n",
      "21                            380.319244        230  \n",
      "22                            378.740054        188  \n",
      "23                            364.343321        237  \n"
     ]
    }
   ],
   "source": [
    "arcgis = pd.read_excel (r'C:/Users/drobi/Downloads/arcgis.xlsx')\n",
    "print(arcgis)"
   ]
  },
  {
   "cell_type": "code",
   "execution_count": 16,
   "metadata": {},
   "outputs": [
    {
     "name": "stdout",
     "output_type": "stream",
     "text": [
      "    X-Position  Y-Position  X-Distance From Center of Tumor Mass   \\\n",
      "0   181.037686 -300.039628                             136.306466   \n",
      "1   308.811980 -242.512411                               8.532172   \n",
      "2   288.290306 -349.414755                              29.053846   \n",
      "3   218.701539 -278.345530                              98.642613   \n",
      "4   157.145854 -290.635373                             160.198298   \n",
      "5   181.361561 -299.763162                             135.982591   \n",
      "6   153.422155 -291.861102                             163.921997   \n",
      "7   317.014888 -197.901003                               0.329264   \n",
      "8   294.237934 -158.236120                              23.106218   \n",
      "9   218.755463  277.265912                              98.588689   \n",
      "10  286.311232 -349.335001                              31.032920   \n",
      "11  288.245654 -347.729878                              29.098498   \n",
      "12  197.842969 -182.868653                             119.501183   \n",
      "13  180.292955 -299.541873                             137.051197   \n",
      "14  295.161525 -332.522953                              22.182627   \n",
      "15  198.197170 -183.809023                             119.146982   \n",
      "16  178.278548 -211.941757                             139.065604   \n",
      "17  189.886646 -240.429929                             127.457506   \n",
      "18  129.768774 -256.144529                             187.575378   \n",
      "19  316.058671 -378.905324                               1.285481   \n",
      "20  318.864140 -353.467646                               1.519988   \n",
      "21  333.320075 -365.831188                              15.975923   \n",
      "22  302.947419 -360.975041                              14.396733   \n",
      "23  317.344152 -364.343321                               0.000000   \n",
      "\n",
      "    Y-Distance From Center of Tumor Mass  RGB Value  \n",
      "0                             500.649787        187  \n",
      "1                             372.875493        208  \n",
      "2                             393.397167        212  \n",
      "3                             462.985934        209  \n",
      "4                             524.541619        213  \n",
      "5                             500.325912        198  \n",
      "6                             528.265318        202  \n",
      "7                             364.672585        193  \n",
      "8                             387.449539        209  \n",
      "9                             462.932010        209  \n",
      "10                            395.376241        191  \n",
      "11                            393.441819        217  \n",
      "12                            483.844504        210  \n",
      "13                            501.394518        220  \n",
      "14                            386.525948        185  \n",
      "15                            483.490303        204  \n",
      "16                            503.408925        208  \n",
      "17                            491.800827        229  \n",
      "18                            551.918699        197  \n",
      "19                            365.628802        183  \n",
      "20                            365.863309        198  \n",
      "21                            380.319244        230  \n",
      "22                            378.740054        188  \n",
      "23                            364.343321        237  \n"
     ]
    }
   ],
   "source": [
    "df=pd.DataFrame(arcgis)\n",
    "print(df)"
   ]
  },
  {
   "cell_type": "code",
   "execution_count": 17,
   "metadata": {},
   "outputs": [],
   "source": [
    "distortions = []\n",
    "K = range(1,10)\n",
    "for k in K:\n",
    "    kmeanModel = KMeans(n_clusters = k)\n",
    "    kmeanModel.fit(df)\n",
    "    distortions.append(kmeanModel.inertia_)"
   ]
  },
  {
   "cell_type": "code",
   "execution_count": 18,
   "metadata": {},
   "outputs": [
    {
     "data": {
      "image/png": "[encoded data removed]",
      "text/plain": [
       "<Figure size 1152x576 with 1 Axes>"
      ]
     },
     "metadata": {
      "needs_background": "light"
     },
     "output_type": "display_data"
    }
   ],
   "source": [
    "plt.figure(figsize=(16,8))\n",
    "plt.plot(K, distortions, 'bx-')\n",
    "plt.xlabel('k')\n",
    "plt.ylabel('Distortion')\n",
    "plt.title('The Elbow Method Showing Optimal k')\n",
    "plt.show()"
   ]
  },
  {
   "cell_type": "code",
   "execution_count": 9,
   "metadata": {},
   "outputs": [],
   "source": [
    "#We can observe that the \"elbow\" is the number 3 which is optimal for this case. Now we can run a K-Means using as n_clusters the number 3."
   ]
  },
  {
   "cell_type": "code",
   "execution_count": 40,
   "metadata": {},
   "outputs": [
    {
     "data": {
      "text/plain": [
       "KMeans(n_clusters=2)"
      ]
     },
     "execution_count": 40,
     "metadata": {},
     "output_type": "execute_result"
    }
   ],
   "source": [
    "kmeanModel = KMeans(n_clusters=2)\n",
    "kmeanModel.fit(df)"
   ]
  },
  {
   "cell_type": "code",
   "execution_count": 41,
   "metadata": {},
   "outputs": [
    {
     "name": "stdout",
     "output_type": "stream",
     "text": [
      "0     0\n",
      "1     1\n",
      "2     1\n",
      "3     0\n",
      "4     0\n",
      "5     0\n",
      "6     0\n",
      "7     1\n",
      "8     1\n",
      "9     0\n",
      "10    1\n",
      "11    1\n",
      "12    0\n",
      "13    0\n",
      "14    1\n",
      "15    0\n",
      "16    0\n",
      "17    0\n",
      "18    0\n",
      "19    1\n",
      "20    1\n",
      "21    1\n",
      "22    1\n",
      "23    1\n",
      "Name: k_means, dtype: int32\n"
     ]
    }
   ],
   "source": [
    "df['k_means']=kmeanModel.predict(df)\n",
    "print(df['k_means'])"
   ]
  },
  {
   "cell_type": "code",
   "execution_count": null,
   "metadata": {},
   "outputs": [],
   "source": []
  }
 ],
 "metadata": {
  "kernelspec": {
   "display_name": "Python 3",
   "language": "python",
   "name": "python3"
  },
  "language_info": {
   "codemirror_mode": {
    "name": "ipython",
    "version": 3
   },
   "file_extension": ".py",
   "mimetype": "text/x-python",
   "name": "python",
   "nbconvert_exporter": "python",
   "pygments_lexer": "ipython3",
   "version": "3.8.3"
  }
 },
 "nbformat": 4,
 "nbformat_minor": 4
}
