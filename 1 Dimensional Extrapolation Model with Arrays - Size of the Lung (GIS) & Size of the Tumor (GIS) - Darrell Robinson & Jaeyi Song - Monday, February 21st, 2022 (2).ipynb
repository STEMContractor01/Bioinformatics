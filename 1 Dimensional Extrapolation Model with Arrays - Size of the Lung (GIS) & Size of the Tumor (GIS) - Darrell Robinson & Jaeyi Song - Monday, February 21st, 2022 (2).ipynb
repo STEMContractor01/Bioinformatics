{
 "cells": [
  {
   "cell_type": "code",
   "execution_count": 22,
   "metadata": {},
   "outputs": [],
   "source": [
    "# 1 Dimensional Extrapolation Model with Arrays - Size of the Lungs (GIS) & Size of the Tumor (GIS)\n",
    "#Cited Sources: https://www.codegrepper.com/code-examples/python/frameworks/-file-path-python/python+extrapolation\n",
    "#Cited Sources: https://stackoverflow.com/questions/57152923/scipy-interp1d-extrapolation-method \n",
    "\n",
    "import matplotlib.pyplot as plt\n",
    "import numpy as np\n",
    "from scipy.interpolate import InterpolatedUnivariateSpline\n",
    "from scipy import interpolate\n"
   ]
  },
  {
   "cell_type": "code",
   "execution_count": 28,
   "metadata": {},
   "outputs": [
    {
     "data": {
      "text/plain": [
       "array([0.00000000e+00, 2.04081633e+14, 4.08163265e+14, 6.12244898e+14,\n",
       "       8.16326531e+14, 1.02040816e+15, 1.22448980e+15, 1.42857143e+15,\n",
       "       1.63265306e+15, 1.83673469e+15, 2.04081633e+15, 2.24489796e+15,\n",
       "       2.44897959e+15, 2.65306122e+15, 2.85714286e+15, 3.06122449e+15,\n",
       "       3.26530612e+15, 3.46938776e+15, 3.67346939e+15, 3.87755102e+15,\n",
       "       4.08163265e+15, 4.28571429e+15, 4.48979592e+15, 4.69387755e+15,\n",
       "       4.89795918e+15, 5.10204082e+15, 5.30612245e+15, 5.51020408e+15,\n",
       "       5.71428571e+15, 5.91836735e+15, 6.12244898e+15, 6.32653061e+15,\n",
       "       6.53061224e+15, 6.73469388e+15, 6.93877551e+15, 7.14285714e+15,\n",
       "       7.34693878e+15, 7.55102041e+15, 7.75510204e+15, 7.95918367e+15,\n",
       "       8.16326531e+15, 8.36734694e+15, 8.57142857e+15, 8.77551020e+15,\n",
       "       8.97959184e+15, 9.18367347e+15, 9.38775510e+15, 9.59183673e+15,\n",
       "       9.79591837e+15, 1.00000000e+16])"
      ]
     },
     "execution_count": 28,
     "metadata": {},
     "output_type": "execute_result"
    }
   ],
   "source": [
    "# Given Values\n",
    "#xi is the Size of the Lungs in GIS (millimeters squared)\n",
    "#yi is the Size of the Tumor in GIS (millimeters squared)\n",
    "#Make sure that there is an equal number of elements (in this case numbers) in each array []\n",
    "\n",
    "xi = np.array([30515904730112000, 588161361410523136, 174364640446775296, 20510048200425472, 689546156951732224, 187675238510886912, 39969534514823168, 807590734090207232, 807433712062693376, 646467664915202048])\n",
    "yi = np.array([483289132189680320, 285016667701590176, 139488837607067648, 439917030582761280, 233006888534704896, 774501814406249984, 886030075680704896, 282575004656659712, 590388910890406784, 957250972912755456])\n",
    "\n",
    "# Positions to Inter/Extrapolate\n",
    "np.linspace(0, 10000000000000000, 50)\n"
   ]
  },
  {
   "cell_type": "code",
   "execution_count": 29,
   "metadata": {},
   "outputs": [],
   "source": [
    "f = interpolate.interp1d(xi,yi, fill_value='extrapolate')\n",
    "z = f(xi)"
   ]
  },
  {
   "cell_type": "code",
   "execution_count": 30,
   "metadata": {},
   "outputs": [
    {
     "name": "stdout",
     "output_type": "stream",
     "text": [
      "3.9869409523366995e+17\n"
     ]
    }
   ],
   "source": [
    "#Example Showing the Extrapolation\n",
    "print(f(11000000000000000))\n"
   ]
  },
  {
   "cell_type": "code",
   "execution_count": null,
   "metadata": {},
   "outputs": [],
   "source": []
  }
 ],
 "metadata": {
  "kernelspec": {
   "display_name": "Python 3",
   "language": "python",
   "name": "python3"
  },
  "language_info": {
   "codemirror_mode": {
    "name": "ipython",
    "version": 3
   },
   "file_extension": ".py",
   "mimetype": "text/x-python",
   "name": "python",
   "nbconvert_exporter": "python",
   "pygments_lexer": "ipython3",
   "version": "3.8.3"
  }
 },
 "nbformat": 4,
 "nbformat_minor": 5
}
