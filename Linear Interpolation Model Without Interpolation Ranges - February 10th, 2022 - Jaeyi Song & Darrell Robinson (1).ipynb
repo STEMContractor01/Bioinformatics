{
 "cells": [
  {
   "cell_type": "code",
   "execution_count": 1,
   "metadata": {},
   "outputs": [
    {
     "name": "stdout",
     "output_type": "stream",
     "text": [
      "Enter first point:\n",
      "x0 = 170.454\n",
      "y0 = -291.112\n"
     ]
    }
   ],
   "source": [
    "#Linear Interpolation in Python\n",
    "\n",
    "#Input Section\n",
    "# Reading First Point\n",
    "print('Enter first point:')\n",
    "x0 = float(input('x0 = '))\n",
    "y0 = float(input('y0 = '))"
   ]
  },
  {
   "cell_type": "code",
   "execution_count": 2,
   "metadata": {},
   "outputs": [
    {
     "name": "stdout",
     "output_type": "stream",
     "text": [
      "Enter second point:\n",
      "x1 = 254.723\n",
      "y1 = -266.853\n"
     ]
    }
   ],
   "source": [
    "#Reading Second Point\n",
    "print('Enter second point:')\n",
    "x1 = float(input('x1 = '))\n",
    "y1 = float(input('y1 = '))\n"
   ]
  },
  {
   "cell_type": "code",
   "execution_count": 7,
   "metadata": {},
   "outputs": [
    {
     "name": "stdout",
     "output_type": "stream",
     "text": [
      "Enter calculation point yp: -356.229\n"
     ]
    }
   ],
   "source": [
    "#Reading Calculation Point (Slope Value Between the Two Coordinates)\n",
    "xp = float(input('Enter calculation point yp: '))"
   ]
  },
  {
   "cell_type": "code",
   "execution_count": 10,
   "metadata": {},
   "outputs": [
    {
     "name": "stdout",
     "output_type": "stream",
     "text": [
      "Interpolated value at -356.2290 is -442.7313\n"
     ]
    }
   ],
   "source": [
    "#Calculating Interpolated Value\n",
    "yp = y0 + ((y1-y0)/(x1-x0)) * (xp - x0)\n",
    "\n",
    "#Displaying Result\n",
    "print('Interpolated value at %0.4f is %0.4f' %(xp,yp))"
   ]
  },
  {
   "cell_type": "code",
   "execution_count": null,
   "metadata": {},
   "outputs": [],
   "source": []
  }
 ],
 "metadata": {
  "kernelspec": {
   "display_name": "Python 3",
   "language": "python",
   "name": "python3"
  },
  "language_info": {
   "codemirror_mode": {
    "name": "ipython",
    "version": 3
   },
   "file_extension": ".py",
   "mimetype": "text/x-python",
   "name": "python",
   "nbconvert_exporter": "python",
   "pygments_lexer": "ipython3",
   "version": "3.8.3"
  }
 },
 "nbformat": 4,
 "nbformat_minor": 4
}
