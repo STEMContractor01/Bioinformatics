{
 "cells": [
  {
   "cell_type": "code",
   "execution_count": null,
   "metadata": {},
   "outputs": [],
   "source": [
    "#You Can Find the Tutorial At Nick McCullum's Website: https://nickmccullum.com/python-deep-learning/convolutional-neural-network-tutorial/ "
   ]
  },
  {
   "cell_type": "code",
   "execution_count": 1,
   "metadata": {},
   "outputs": [],
   "source": [
    "#Importing Libraries \n",
    "import numpy as np\n",
    "import tensorflow as tf\n",
    "from tensorflow.keras.preprocessing.image import ImageDataGenerator\n"
   ]
  },
  {
   "cell_type": "code",
   "execution_count": 2,
   "metadata": {},
   "outputs": [],
   "source": [
    "#Preprocessing Our Data\n",
    "training_generator = ImageDataGenerator(\n",
    "                            rescale = 1/255,\n",
    "                            \n",
    "                            shear_range = 0.2,\n",
    "\n",
    "                            zoom_range = 0.2,\n",
    "\n",
    "                            horizontal_flip = True)"
   ]
  },
  {
   "cell_type": "code",
   "execution_count": 10,
   "metadata": {},
   "outputs": [],
   "source": [
    "#Training Data Used to Train the Convolutional Neural Network\n",
    "#Using the Python Imaging Library to Load the Images. Now You Can Make A Script to Read Images From a Directory and Load Them Into Python (URL: https://stackoverflow.com/questions/36774431/how-to-load-images-from-a-directory-on-the-computer-in-python)\n",
    "import os\n",
    "from os import listdir\n",
    "from PIL import Image as PImage\n",
    "\n",
    "def loadImages(path):\n",
    "    # return array of images\n",
    "    \n",
    "    imagesList = listdir(path)\n",
    "    loadedImages = []\n",
    "    for image in imagesList:\n",
    "            jpg = PImage.open(path + image)\n",
    "            loadedImages.append(jpg)\n",
    "            \n",
    "    return loadedImages\n",
    "\n",
    "path = \"C:/Users/drobin21.BU/Downloads/training_data/\"\n",
    "\n",
    "# your images in an array\n",
    "\n",
    "jpg = loadImages(path)\n",
    "\n",
    "for jpg in img:\n",
    "    # you can show every image\n",
    "    jpg.show()\n",
    "\n"
   ]
  },
  {
   "cell_type": "code",
   "execution_count": 15,
   "metadata": {},
   "outputs": [
    {
     "name": "stdout",
     "output_type": "stream",
     "text": [
      "Found 24 images belonging to 2 classes.\n"
     ]
    }
   ],
   "source": [
    "#Generating Our Data Using the Flow_From_Directory Method on the New Training_Generator Object\n",
    "training_set = training_generator.flow_from_directory(\"C:/Users/drobin21.BU/Downloads/training_data/\", target_size = (64, 64), batch_size = 32, class_mode = 'categorical')"
   ]
  },
  {
   "cell_type": "code",
   "execution_count": 16,
   "metadata": {},
   "outputs": [
    {
     "name": "stdout",
     "output_type": "stream",
     "text": [
      "Found 24 images belonging to 2 classes.\n"
     ]
    }
   ],
   "source": [
    "#Preprocessing the Test set\n",
    "test_generator = ImageDataGenerator(rescale = 1./255)\n",
    "test_set = test_generator.flow_from_directory('C:/Users/drobin21.BU/Downloads/testing_data/', target_size = (64, 64), batch_size = 32, class_mode = 'binary')\n",
    "\n",
    "\n",
    "#Building Our Convolutional Neural Network\n",
    "cnn = tf.keras.models.Sequential()"
   ]
  },
  {
   "cell_type": "code",
   "execution_count": 17,
   "metadata": {},
   "outputs": [],
   "source": [
    "#Adding Our Convolutional Layer\n",
    "cnn.add(tf.keras.layers.Conv2D(filters=32, kernel_size=3, activation='relu', input_shape=[64, 64, 3]))\n"
   ]
  },
  {
   "cell_type": "code",
   "execution_count": 18,
   "metadata": {},
   "outputs": [],
   "source": [
    "#Adding Our Max Pooling Layer\n",
    "cnn.add(tf.keras.layers.MaxPool2D(pool_size=2, strides=2))"
   ]
  },
  {
   "cell_type": "code",
   "execution_count": 19,
   "metadata": {},
   "outputs": [],
   "source": [
    "#Adding Another Convolutional Layer and Pooling Layer\n",
    "cnn.add(tf.keras.layers.Conv2D(filters=32, kernel_size=3, activation='relu'))\n",
    "cnn.add(tf.keras.layers.MaxPool2D(pool_size=2, strides=2))\n",
    "#Our Convolutional Neural Network is Now Composed of (1) Convolutional Layer; (2) Max Pooling Layer; (3) Another Convolutional Layer; (4) Another Max Pooling Layer"
   ]
  },
  {
   "cell_type": "code",
   "execution_count": 20,
   "metadata": {},
   "outputs": [],
   "source": [
    "#Adding the Flattening Layer to Our Convolutional Neural Network\n",
    "cnn.add(tf.keras.layers.Flatten())"
   ]
  },
  {
   "cell_type": "code",
   "execution_count": 21,
   "metadata": {},
   "outputs": [],
   "source": [
    "#Adding the Full Connection Layer to Our Convolutional Neural Network\n",
    "cnn.add(tf.keras.layers.Dense(units=128, activation='relu'))"
   ]
  },
  {
   "cell_type": "code",
   "execution_count": 22,
   "metadata": {},
   "outputs": [],
   "source": [
    "#Adding The Output Layer to Our Convolutional Neural Network\n",
    "cnn.add(tf.keras.layers.Dense(units=1, activation='sigmoid'))"
   ]
  },
  {
   "cell_type": "code",
   "execution_count": 25,
   "metadata": {},
   "outputs": [
    {
     "name": "stdout",
     "output_type": "stream",
     "text": [
      "Epoch 1/25\n",
      "1/1 [==============================] - 1s 1s/step - loss: 0.7013 - accuracy: 0.5000 - val_loss: 2.7052 - val_accuracy: 0.5000\n",
      "Epoch 2/25\n",
      "1/1 [==============================] - 0s 338ms/step - loss: 2.5644 - accuracy: 0.5000 - val_loss: 1.0956 - val_accuracy: 0.5000\n",
      "Epoch 3/25\n",
      "1/1 [==============================] - 0s 346ms/step - loss: 1.0592 - accuracy: 0.5000 - val_loss: 0.6879 - val_accuracy: 0.6667\n",
      "Epoch 4/25\n",
      "1/1 [==============================] - 0s 374ms/step - loss: 0.6961 - accuracy: 0.5000 - val_loss: 0.6891 - val_accuracy: 0.5000\n",
      "Epoch 5/25\n",
      "1/1 [==============================] - 0s 350ms/step - loss: 0.7072 - accuracy: 0.5000 - val_loss: 0.6908 - val_accuracy: 0.5000\n",
      "Epoch 6/25\n",
      "1/1 [==============================] - 0s 331ms/step - loss: 0.7084 - accuracy: 0.5000 - val_loss: 0.6894 - val_accuracy: 0.5000\n",
      "Epoch 7/25\n",
      "1/1 [==============================] - 0s 353ms/step - loss: 0.7044 - accuracy: 0.5000 - val_loss: 0.6883 - val_accuracy: 0.5000\n",
      "Epoch 8/25\n",
      "1/1 [==============================] - 0s 344ms/step - loss: 0.6982 - accuracy: 0.5000 - val_loss: 0.6892 - val_accuracy: 0.5000\n",
      "Epoch 9/25\n",
      "1/1 [==============================] - 0s 333ms/step - loss: 0.6949 - accuracy: 0.5000 - val_loss: 0.6914 - val_accuracy: 0.4583\n",
      "Epoch 10/25\n",
      "1/1 [==============================] - 0s 352ms/step - loss: 0.6934 - accuracy: 0.5000 - val_loss: 0.6940 - val_accuracy: 0.4583\n",
      "Epoch 11/25\n",
      "1/1 [==============================] - 0s 348ms/step - loss: 0.6933 - accuracy: 0.5000 - val_loss: 0.6965 - val_accuracy: 0.5000\n",
      "Epoch 12/25\n",
      "1/1 [==============================] - 0s 357ms/step - loss: 0.6937 - accuracy: 0.5000 - val_loss: 0.6982 - val_accuracy: 0.5000\n",
      "Epoch 13/25\n",
      "1/1 [==============================] - 0s 365ms/step - loss: 0.6942 - accuracy: 0.5000 - val_loss: 0.6991 - val_accuracy: 0.5000\n",
      "Epoch 14/25\n",
      "1/1 [==============================] - 0s 365ms/step - loss: 0.6945 - accuracy: 0.5000 - val_loss: 0.6994 - val_accuracy: 0.4583\n",
      "Epoch 15/25\n",
      "1/1 [==============================] - 0s 353ms/step - loss: 0.6946 - accuracy: 0.5000 - val_loss: 0.6991 - val_accuracy: 0.4583\n",
      "Epoch 16/25\n",
      "1/1 [==============================] - 0s 389ms/step - loss: 0.6944 - accuracy: 0.5000 - val_loss: 0.6986 - val_accuracy: 0.4583\n",
      "Epoch 17/25\n",
      "1/1 [==============================] - 0s 380ms/step - loss: 0.6943 - accuracy: 0.5000 - val_loss: 0.6979 - val_accuracy: 0.5000\n",
      "Epoch 18/25\n",
      "1/1 [==============================] - 0s 364ms/step - loss: 0.6941 - accuracy: 0.5000 - val_loss: 0.6971 - val_accuracy: 0.5000\n",
      "Epoch 19/25\n",
      "1/1 [==============================] - 0s 343ms/step - loss: 0.6938 - accuracy: 0.5000 - val_loss: 0.6962 - val_accuracy: 0.5000\n",
      "Epoch 20/25\n",
      "1/1 [==============================] - 0s 348ms/step - loss: 0.6936 - accuracy: 0.5000 - val_loss: 0.6952 - val_accuracy: 0.5000\n",
      "Epoch 21/25\n",
      "1/1 [==============================] - 0s 351ms/step - loss: 0.6934 - accuracy: 0.5000 - val_loss: 0.6942 - val_accuracy: 0.5000\n",
      "Epoch 22/25\n",
      "1/1 [==============================] - 0s 367ms/step - loss: 0.6933 - accuracy: 0.5000 - val_loss: 0.6933 - val_accuracy: 0.4583\n",
      "Epoch 23/25\n",
      "1/1 [==============================] - 0s 386ms/step - loss: 0.6932 - accuracy: 0.5000 - val_loss: 0.6926 - val_accuracy: 0.5417\n",
      "Epoch 24/25\n",
      "1/1 [==============================] - 0s 363ms/step - loss: 0.6932 - accuracy: 0.5000 - val_loss: 0.6921 - val_accuracy: 0.4583\n",
      "Epoch 25/25\n",
      "1/1 [==============================] - 0s 338ms/step - loss: 0.6932 - accuracy: 0.5000 - val_loss: 0.6918 - val_accuracy: 0.5833\n"
     ]
    },
    {
     "data": {
      "text/plain": [
       "<keras.callbacks.History at 0x2772e734280>"
      ]
     },
     "execution_count": 25,
     "metadata": {},
     "output_type": "execute_result"
    }
   ],
   "source": [
    "#Training the Convolutional Neural Network\n",
    "#To train our convolutional neural network, we must first compile it. To compile a CNN means to connect it to an optimizer, a loss function, and some metrics.\n",
    "#We are doing binary classification with our convolutional network, just like what is done when creating an Artificial Neural Network.\n",
    "#This means that we can use the same optimizer, loss function, and metrics.\n",
    "\n",
    "cnn.compile(optimizer = 'adam', loss = 'binary_crossentropy', metrics = ['accuracy'])\n",
    "cnn.fit(x = training_set, validation_data = test_set, epochs = 25)"
   ]
  },
  {
   "cell_type": "code",
   "execution_count": 44,
   "metadata": {},
   "outputs": [],
   "source": [
    "#Making Predictions With Our Convolutional Neural Network\n",
    "from tensorflow.keras.preprocessing import image\n",
    "test_image_1 = image.load_img('C:/Users/drobin21.BU/Downloads/predictions/LSCCimage_or_NSCLCimage_1.jpg', target_size = (64, 64))\n",
    "test_image_2 = image.load_img('C:/Users/drobin21.BU/Downloads/predictions/LSCCimage_or_NSCLCimage_2.jpg', target_size = (64, 64))\n"
   ]
  },
  {
   "cell_type": "code",
   "execution_count": 45,
   "metadata": {},
   "outputs": [],
   "source": [
    "test_image_1 = image.img_to_array(test_image_1)\n",
    "test_image_2 = image.img_to_array(test_image_2)\n",
    "\n",
    "\n",
    "#Commands to Expand the Dimensions of Our Photo's Data\n",
    "test_image_1 = np.expand_dims(test_image_1, axis = 0)\n",
    "test_image_2 = np.expand_dims(test_image_2, axis = 0)\n"
   ]
  },
  {
   "cell_type": "code",
   "execution_count": 46,
   "metadata": {},
   "outputs": [
    {
     "name": "stdout",
     "output_type": "stream",
     "text": [
      "[[0.9943284]]\n"
     ]
    }
   ],
   "source": [
    "#Making a Prediction on Image 1\n",
    "print(cnn.predict(test_image_1))"
   ]
  },
  {
   "cell_type": "code",
   "execution_count": 47,
   "metadata": {},
   "outputs": [
    {
     "name": "stdout",
     "output_type": "stream",
     "text": [
      "[[0.99809957]]\n"
     ]
    }
   ],
   "source": [
    "#Making a Prediction on Image 2\n",
    "print(cnn.predict(test_image_2))"
   ]
  },
  {
   "cell_type": "code",
   "execution_count": 48,
   "metadata": {},
   "outputs": [
    {
     "data": {
      "text/plain": [
       "{'LSCimages': 0, 'NSCLCimages': 1}"
      ]
     },
     "execution_count": 48,
     "metadata": {},
     "output_type": "execute_result"
    }
   ],
   "source": [
    "#Determining Which Number Corresponds to Each Cancer Type\n",
    "\n",
    "training_set.class_indices"
   ]
  },
  {
   "cell_type": "code",
   "execution_count": 53,
   "metadata": {},
   "outputs": [
    {
     "name": "stdout",
     "output_type": "stream",
     "text": [
      "LSCC\n",
      "NSCLC\n"
     ]
    }
   ],
   "source": [
    "#Making Categorical Predictions\n",
    "#Still Working on This. This Should Be Easier to Do With Healthy Lungs vs Non-Small-Cell Cancer Lungs\n",
    "result_1 = cnn.predict(test_image_1)\n",
    "\n",
    "result_2 = cnn.predict(test_image_2)\n",
    "\n",
    "\n",
    "\n",
    "if (result_1 <= 0.9943284):\n",
    "    \n",
    "    result_1 = 'LSCC'\n",
    "    \n",
    "else:\n",
    "    \n",
    "    result_1 = 'NSCLC'\n",
    "    \n",
    "    \n",
    "if (result_2 >= 0.99809957):\n",
    "    \n",
    "    result_2 = 'NSCLC'\n",
    "    \n",
    "else:\n",
    "    \n",
    "    result_2 = 'LSCC'\n",
    "    \n",
    "    \n",
    "    \n",
    "\n",
    "print(result_1)\n",
    "\n",
    "print(result_2)"
   ]
  },
  {
   "cell_type": "code",
   "execution_count": null,
   "metadata": {},
   "outputs": [],
   "source": []
  }
 ],
 "metadata": {
  "kernelspec": {
   "display_name": "Python 3",
   "language": "python",
   "name": "python3"
  },
  "language_info": {
   "codemirror_mode": {
    "name": "ipython",
    "version": 3
   },
   "file_extension": ".py",
   "mimetype": "text/x-python",
   "name": "python",
   "nbconvert_exporter": "python",
   "pygments_lexer": "ipython3",
   "version": "3.8.3"
  }
 },
 "nbformat": 4,
 "nbformat_minor": 5
}
